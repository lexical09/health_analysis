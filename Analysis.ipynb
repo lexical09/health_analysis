{
 "cells": [
  {
   "cell_type": "markdown",
   "metadata": {},
   "source": [
    "# Data Cleaning and Overview\n"
   ]
  },
  {
   "cell_type": "markdown",
   "metadata": {},
   "source": [
    "# Step 1: Import Python packages and define functions\n",
    "I need to import (pandas and numpy) packages for cleaning the dataset.<br> \n",
    "Since the control data values file (aux_dataset.xlsx file) is provided, I will define some functions to convert the excel worksheets into dictionaries. Then, I use the dictionaries to replace the values accordingly to the control values for each column of the dataset.<br>\n",
    "To ensure the uniformity of the data, I replaced \"FALSE\" to \"False\", \"NULL_\" to \"NULL\" and \"rectal\" to \"Rectal\" in \"clean\" column of \"braf_mutation\" worksheet inside aux_dataset.xlsx file"
   ]
  },
  {
   "cell_type": "code",
   "execution_count": 1250,
   "metadata": {},
   "outputs": [],
   "source": [
    "#import packages\n",
    "import pandas as pd\n",
    "import numpy as np\n",
    "\n",
    "import matplotlib\n",
    "import matplotlib.pyplot as plt"
   ]
  },
  {
   "cell_type": "code",
   "execution_count": 1251,
   "metadata": {},
   "outputs": [],
   "source": [
    "# Define functions \n",
    "file = './aux_dataset.xlsx'\n",
    "\n",
    "# Function to get dictionaries from aux_dataset.xlsx file for cleaning\n",
    "def get_dict(file,i):\n",
    "    df_i=pd.read_excel('./aux_dataset.xlsx', sheet_name=i,header=0,index_col=None)\n",
    "    # replaced \"\" to \"NULL\", \"FALSE\" to \"False\", \"NULL_\" to \"NULL\"\n",
    "    df_i.clean=df_i.clean.astype(object).replace(np.nan, 'NULL').replace('FALSE','False').replace('NULL_','NULL')\n",
    "    dict_i=df_i.set_index('raw')['clean'].to_dict()\n",
    "    return dict_i\n",
    "\n",
    "# Replace value according to dictionaries\n",
    "def replace_all(df,col, dic):\n",
    "    for i, j in dic.items():\n",
    "        df[str(col)] = df[str(col)].replace(i, j)\n",
    "    return df[str(col)].astype(str)\n",
    "\n",
    "def missing_data(df):\n",
    "    no_null = df.notnull().sum()\n",
    "    missing = df.isnull().sum()\n",
    "    percent = df.isnull().sum()/df.shape[0]*100\n",
    "    missing_data = pd.concat([no_null,missing, percent], axis=1, \n",
    "                             keys=['NOT-null','Missing', 'Percent Missing'])\n",
    "    return missing_data.sort_values(by='Missing', ascending=False)\n"
   ]
  },
  {
   "cell_type": "markdown",
   "metadata": {},
   "source": [
    "# Step 2: Import, explore and clean the dataset\n"
   ]
  },
  {
   "cell_type": "code",
   "execution_count": 1252,
   "metadata": {},
   "outputs": [
    {
     "name": "stdout",
     "output_type": "stream",
     "text": [
      "The dataset has 10000 rows and 10 columns\n"
     ]
    }
   ],
   "source": [
    "cota_data = pd.read_csv('./cota_ds_analyst_dataset.csv')\n",
    "\n",
    "print('The dataset has {} rows and {} columns'.format(cota_data.shape[0],cota_data.shape[1]))"
   ]
  },
  {
   "cell_type": "code",
   "execution_count": 1253,
   "metadata": {},
   "outputs": [
    {
     "data": {
      "text/html": [
       "<div>\n",
       "<style scoped>\n",
       "    .dataframe tbody tr th:only-of-type {\n",
       "        vertical-align: middle;\n",
       "    }\n",
       "\n",
       "    .dataframe tbody tr th {\n",
       "        vertical-align: top;\n",
       "    }\n",
       "\n",
       "    .dataframe thead th {\n",
       "        text-align: right;\n",
       "    }\n",
       "</style>\n",
       "<table border=\"1\" class=\"dataframe\">\n",
       "  <thead>\n",
       "    <tr style=\"text-align: right;\">\n",
       "      <th></th>\n",
       "      <th>patient_id</th>\n",
       "      <th>date_of_birth</th>\n",
       "      <th>stage</th>\n",
       "      <th>rectal_or_colon_ca</th>\n",
       "      <th>braf_mutation</th>\n",
       "      <th>resection</th>\n",
       "      <th>lymph_nodes_removed</th>\n",
       "      <th>therapy_type</th>\n",
       "      <th>patient_preference</th>\n",
       "      <th>histological_grade</th>\n",
       "    </tr>\n",
       "  </thead>\n",
       "  <tbody>\n",
       "    <tr>\n",
       "      <th>0</th>\n",
       "      <td>patient_id_0</td>\n",
       "      <td>December 28, 1953</td>\n",
       "      <td>iiia</td>\n",
       "      <td>colon</td>\n",
       "      <td>not assessed</td>\n",
       "      <td>r0: no residual tumor</td>\n",
       "      <td>1 positive</td>\n",
       "      <td>metastatic</td>\n",
       "      <td>not assessed</td>\n",
       "      <td>g2</td>\n",
       "    </tr>\n",
       "    <tr>\n",
       "      <th>1</th>\n",
       "      <td>patient_id_1</td>\n",
       "      <td>2009-07-09</td>\n",
       "      <td>stage iiia</td>\n",
       "      <td>colon</td>\n",
       "      <td>not assessed</td>\n",
       "      <td>not assessed</td>\n",
       "      <td>14</td>\n",
       "      <td>metastatic</td>\n",
       "      <td>no</td>\n",
       "      <td>3</td>\n",
       "    </tr>\n",
       "    <tr>\n",
       "      <th>2</th>\n",
       "      <td>patient_id_2</td>\n",
       "      <td>1983-04-16</td>\n",
       "      <td>iiic</td>\n",
       "      <td>colon</td>\n",
       "      <td>not assessed</td>\n",
       "      <td>not assessed</td>\n",
       "      <td>24</td>\n",
       "      <td>metastatic</td>\n",
       "      <td>not assessed</td>\n",
       "      <td>g1</td>\n",
       "    </tr>\n",
       "    <tr>\n",
       "      <th>3</th>\n",
       "      <td>patient_id_3</td>\n",
       "      <td>2018-08-13</td>\n",
       "      <td>i</td>\n",
       "      <td>rectal</td>\n",
       "      <td>not assessed</td>\n",
       "      <td>not assessed</td>\n",
       "      <td>1 positive</td>\n",
       "      <td>metastatic</td>\n",
       "      <td>no</td>\n",
       "      <td>not reported</td>\n",
       "    </tr>\n",
       "    <tr>\n",
       "      <th>4</th>\n",
       "      <td>patient_id_4</td>\n",
       "      <td>October 09, 2017</td>\n",
       "      <td>iib</td>\n",
       "      <td>rectal</td>\n",
       "      <td>not assessed</td>\n",
       "      <td>not assessed</td>\n",
       "      <td>&gt;12</td>\n",
       "      <td>adjuvant</td>\n",
       "      <td>yes</td>\n",
       "      <td>g1</td>\n",
       "    </tr>\n",
       "  </tbody>\n",
       "</table>\n",
       "</div>"
      ],
      "text/plain": [
       "     patient_id      date_of_birth       stage rectal_or_colon_ca  \\\n",
       "0  patient_id_0  December 28, 1953        iiia              colon   \n",
       "1  patient_id_1         2009-07-09  stage iiia              colon   \n",
       "2  patient_id_2         1983-04-16        iiic              colon   \n",
       "3  patient_id_3         2018-08-13           i             rectal   \n",
       "4  patient_id_4   October 09, 2017         iib             rectal   \n",
       "\n",
       "  braf_mutation              resection lymph_nodes_removed therapy_type  \\\n",
       "0  not assessed  r0: no residual tumor          1 positive   metastatic   \n",
       "1  not assessed           not assessed                  14   metastatic   \n",
       "2  not assessed           not assessed                  24   metastatic   \n",
       "3  not assessed           not assessed          1 positive   metastatic   \n",
       "4  not assessed           not assessed                 >12     adjuvant   \n",
       "\n",
       "  patient_preference histological_grade  \n",
       "0       not assessed                 g2  \n",
       "1                 no                  3  \n",
       "2       not assessed                 g1  \n",
       "3                 no       not reported  \n",
       "4                yes                 g1  "
      ]
     },
     "execution_count": 1253,
     "metadata": {},
     "output_type": "execute_result"
    }
   ],
   "source": [
    "cota_data.head()"
   ]
  },
  {
   "cell_type": "code",
   "execution_count": 1254,
   "metadata": {},
   "outputs": [
    {
     "data": {
      "text/html": [
       "<div>\n",
       "<style scoped>\n",
       "    .dataframe tbody tr th:only-of-type {\n",
       "        vertical-align: middle;\n",
       "    }\n",
       "\n",
       "    .dataframe tbody tr th {\n",
       "        vertical-align: top;\n",
       "    }\n",
       "\n",
       "    .dataframe thead th {\n",
       "        text-align: right;\n",
       "    }\n",
       "</style>\n",
       "<table border=\"1\" class=\"dataframe\">\n",
       "  <thead>\n",
       "    <tr style=\"text-align: right;\">\n",
       "      <th></th>\n",
       "      <th>NOT-null</th>\n",
       "      <th>Missing</th>\n",
       "      <th>Percent Missing</th>\n",
       "    </tr>\n",
       "  </thead>\n",
       "  <tbody>\n",
       "    <tr>\n",
       "      <th>resection</th>\n",
       "      <td>9211</td>\n",
       "      <td>789</td>\n",
       "      <td>7.89</td>\n",
       "    </tr>\n",
       "    <tr>\n",
       "      <th>lymph_nodes_removed</th>\n",
       "      <td>9620</td>\n",
       "      <td>380</td>\n",
       "      <td>3.80</td>\n",
       "    </tr>\n",
       "    <tr>\n",
       "      <th>rectal_or_colon_ca</th>\n",
       "      <td>9732</td>\n",
       "      <td>268</td>\n",
       "      <td>2.68</td>\n",
       "    </tr>\n",
       "    <tr>\n",
       "      <th>histological_grade</th>\n",
       "      <td>9885</td>\n",
       "      <td>115</td>\n",
       "      <td>1.15</td>\n",
       "    </tr>\n",
       "    <tr>\n",
       "      <th>braf_mutation</th>\n",
       "      <td>9974</td>\n",
       "      <td>26</td>\n",
       "      <td>0.26</td>\n",
       "    </tr>\n",
       "    <tr>\n",
       "      <th>patient_id</th>\n",
       "      <td>10000</td>\n",
       "      <td>0</td>\n",
       "      <td>0.00</td>\n",
       "    </tr>\n",
       "    <tr>\n",
       "      <th>date_of_birth</th>\n",
       "      <td>10000</td>\n",
       "      <td>0</td>\n",
       "      <td>0.00</td>\n",
       "    </tr>\n",
       "    <tr>\n",
       "      <th>stage</th>\n",
       "      <td>10000</td>\n",
       "      <td>0</td>\n",
       "      <td>0.00</td>\n",
       "    </tr>\n",
       "    <tr>\n",
       "      <th>therapy_type</th>\n",
       "      <td>10000</td>\n",
       "      <td>0</td>\n",
       "      <td>0.00</td>\n",
       "    </tr>\n",
       "    <tr>\n",
       "      <th>patient_preference</th>\n",
       "      <td>10000</td>\n",
       "      <td>0</td>\n",
       "      <td>0.00</td>\n",
       "    </tr>\n",
       "  </tbody>\n",
       "</table>\n",
       "</div>"
      ],
      "text/plain": [
       "                     NOT-null  Missing  Percent Missing\n",
       "resection                9211      789             7.89\n",
       "lymph_nodes_removed      9620      380             3.80\n",
       "rectal_or_colon_ca       9732      268             2.68\n",
       "histological_grade       9885      115             1.15\n",
       "braf_mutation            9974       26             0.26\n",
       "patient_id              10000        0             0.00\n",
       "date_of_birth           10000        0             0.00\n",
       "stage                   10000        0             0.00\n",
       "therapy_type            10000        0             0.00\n",
       "patient_preference      10000        0             0.00"
      ]
     },
     "execution_count": 1254,
     "metadata": {},
     "output_type": "execute_result"
    }
   ],
   "source": [
    "missing_data(cota_data)"
   ]
  },
  {
   "attachments": {},
   "cell_type": "markdown",
   "metadata": {},
   "source": [
    "We can see that the values in each columns are not uniform, so we will need to:\n",
    "1. \"date_of_birth\": reformat date\n",
    "2. \"stage\": remove the word stage and reformat values\n",
    "3. \"rectal_or_colon_ca\": replace the values according to control values<br>\n",
    "   \"braf_mutation\": replace the values according to control values<br>\n",
    "   \"therapy_type\": replace the values according to control values<br>\n",
    "4. \"resection\": replace values with either r0, r1, r2 or NULL\n",
    "5. \"lymph_nodes_removed\": reformat values to integers or NULL\n",
    "6. \"patient_preference\": reformat values to boolean\n",
    "7. \"histological_grade\": replace values with g1, g2, g3, g4 or NULL"
   ]
  },
  {
   "cell_type": "markdown",
   "metadata": {},
   "source": [
    "### 1. date_of_birth column\n",
    "\n",
    "The format of date are not uniform"
   ]
  },
  {
   "cell_type": "code",
   "execution_count": 1321,
   "metadata": {},
   "outputs": [],
   "source": [
    "#cota_data.columns"
   ]
  },
  {
   "cell_type": "code",
   "execution_count": 1256,
   "metadata": {},
   "outputs": [
    {
     "name": "stdout",
     "output_type": "stream",
     "text": [
      "Unique values \n",
      " ['December 28, 1953' '2009-07-09' '1983-04-16' ... '1953-04-18'\n",
      " '2012-07-15' 'September 24, 1974']\n"
     ]
    }
   ],
   "source": [
    "print('Unique values \\n',cota_data.date_of_birth.unique())"
   ]
  },
  {
   "cell_type": "code",
   "execution_count": 1257,
   "metadata": {},
   "outputs": [],
   "source": [
    "cota_data.date_of_birth=pd.to_datetime(cota_data.date_of_birth, errors='ignore')"
   ]
  },
  {
   "cell_type": "code",
   "execution_count": 1258,
   "metadata": {},
   "outputs": [
    {
     "data": {
      "text/plain": [
       "0   1953-12-28\n",
       "1   2009-07-09\n",
       "2   1983-04-16\n",
       "3   2018-08-13\n",
       "4   2017-10-09\n",
       "Name: date_of_birth, dtype: datetime64[ns]"
      ]
     },
     "execution_count": 1258,
     "metadata": {},
     "output_type": "execute_result"
    }
   ],
   "source": [
    "cota_data.date_of_birth.head()"
   ]
  },
  {
   "cell_type": "markdown",
   "metadata": {},
   "source": [
    "### 2. stage column"
   ]
  },
  {
   "cell_type": "code",
   "execution_count": 1259,
   "metadata": {},
   "outputs": [
    {
     "data": {
      "text/plain": [
       "array(['iiia', 'stage iiia', 'iiic', 'i', 'iib', 'iiib', 'not assessed',\n",
       "       'stage iib', 'stage iiib', 'ivb', 'iia', 'stage i', 'stage iva',\n",
       "       'stage iia', 'iva', 'not staged', 'stage ivb', 'stage 0', 'iic',\n",
       "       'stage iiic', 'unknown', 'stage i (staging not completed)',\n",
       "       'not reported', 'no neoplasm', 'stage 1', '0', '!!a',\n",
       "       'orif of pathologic fracture arm by ortho', 'no records', '111a',\n",
       "       '1', 'not fully staged', 'stageiva', 'not reporte', 'stage iic'],\n",
       "      dtype=object)"
      ]
     },
     "execution_count": 1259,
     "metadata": {},
     "output_type": "execute_result"
    }
   ],
   "source": [
    "cota_data.stage.unique()"
   ]
  },
  {
   "cell_type": "code",
   "execution_count": 1260,
   "metadata": {},
   "outputs": [],
   "source": [
    "dict_stage={'not assessed':'Not Assessed','not staged':'Not Staged', 'unknown':'NULL',\n",
    "            'i (staging not completed)':'i', 'not reported':'Not Reported', '1':'i',\n",
    "            '!!a':'iia', 'orif of pathologic fracture arm by ortho':'NULL', \n",
    "            'no records':'NULL','111a':'iiia', 'not fully staged':'NULL',\n",
    "            'not reporte':'Not Reported'}"
   ]
  },
  {
   "cell_type": "code",
   "execution_count": 1261,
   "metadata": {},
   "outputs": [],
   "source": [
    "cota_data.stage=cota_data.stage.str.lstrip('stage ').str.rstrip('abc')"
   ]
  },
  {
   "cell_type": "code",
   "execution_count": 1262,
   "metadata": {},
   "outputs": [],
   "source": [
    "cota_data.stage=replace_all(cota_data,'stage',dict_stage)"
   ]
  },
  {
   "cell_type": "code",
   "execution_count": 1263,
   "metadata": {},
   "outputs": [
    {
     "data": {
      "text/plain": [
       "iv              3197\n",
       "iii             2322\n",
       "ii              1640\n",
       "Not Assessed    1576\n",
       "i                898\n",
       "0                141\n",
       "Not Staged        63\n",
       "Not Reported      57\n",
       "NULL              54\n",
       "no neoplasm       20\n",
       "111               17\n",
       "!!                15\n",
       "Name: stage, dtype: int64"
      ]
     },
     "execution_count": 1263,
     "metadata": {},
     "output_type": "execute_result"
    }
   ],
   "source": [
    "cota_data.stage.value_counts()"
   ]
  },
  {
   "cell_type": "code",
   "execution_count": 1323,
   "metadata": {},
   "outputs": [
    {
     "name": "stdout",
     "output_type": "stream",
     "text": [
      "Stage values \n",
      " iv              3197\n",
      "iii             2322\n",
      "ii              1640\n",
      "Not Assessed    1576\n",
      "i                898\n",
      "0                141\n",
      "Not Staged        63\n",
      "Not Reported      57\n",
      "NULL              54\n",
      "no neoplasm       20\n",
      "111               17\n",
      "!!                15\n",
      "Name: stage, dtype: int64\n",
      "AxesSubplot(0.125,0.125;0.775x0.755)\n"
     ]
    },
    {
     "data": {
      "image/png": "[encoded data removed]",
      "text/plain": [
       "<Figure size 432x288 with 1 Axes>"
      ]
     },
     "metadata": {},
     "output_type": "display_data"
    }
   ],
   "source": [
    "print('Stage values \\n',cota_data.stage.value_counts())\n",
    "print(cota_data.stage.value_counts().plot(kind='bar',fontsize=13,title='Cancer Stages'))"
   ]
  },
  {
   "cell_type": "markdown",
   "metadata": {},
   "source": [
    "### 3. rectal_or_colon_ca, braf_mutation, therapy_type columns"
   ]
  },
  {
   "cell_type": "code",
   "execution_count": 1265,
   "metadata": {},
   "outputs": [],
   "source": [
    "xls = pd.ExcelFile('./aux_dataset.xlsx', on_demand = True)\n",
    "for i in xls.sheet_names:\n",
    "    dict_i=get_dict(file,str(i))\n",
    "    cota_data[str(i)]= replace_all(cota_data,str(i), dict_i)\n",
    "    "
   ]
  },
  {
   "cell_type": "code",
   "execution_count": 1266,
   "metadata": {},
   "outputs": [
    {
     "data": {
      "text/plain": [
       "array(['Colon', 'Rectal', 'NULL'], dtype=object)"
      ]
     },
     "execution_count": 1266,
     "metadata": {},
     "output_type": "execute_result"
    }
   ],
   "source": [
    "cota_data.rectal_or_colon_ca.unique()"
   ]
  },
  {
   "cell_type": "code",
   "execution_count": 1267,
   "metadata": {},
   "outputs": [
    {
     "data": {
      "text/plain": [
       "array(['Not Assessed', 'False', 'Not Reported', 'True', 'NULL'],\n",
       "      dtype=object)"
      ]
     },
     "execution_count": 1267,
     "metadata": {},
     "output_type": "execute_result"
    }
   ],
   "source": [
    "cota_data.braf_mutation.unique()"
   ]
  },
  {
   "cell_type": "code",
   "execution_count": 1268,
   "metadata": {},
   "outputs": [
    {
     "data": {
      "text/plain": [
       "array(['metastatic', 'adjuvant', 'neoadjuvant'], dtype=object)"
      ]
     },
     "execution_count": 1268,
     "metadata": {},
     "output_type": "execute_result"
    }
   ],
   "source": [
    "cota_data.therapy_type.unique()"
   ]
  },
  {
   "cell_type": "code",
   "execution_count": 1269,
   "metadata": {},
   "outputs": [
    {
     "name": "stdout",
     "output_type": "stream",
     "text": [
      "Colon     7497\n",
      "Rectal    2118\n",
      "NULL       385\n",
      "Name: rectal_or_colon_ca, dtype: int64\n"
     ]
    },
    {
     "data": {
      "text/plain": [
       "<matplotlib.axes._subplots.AxesSubplot at 0x123f9cb70>"
      ]
     },
     "execution_count": 1269,
     "metadata": {},
     "output_type": "execute_result"
    },
    {
     "data": {
      "image/png": "[encoded data removed]",
      "text/plain": [
       "<Figure size 432x288 with 1 Axes>"
      ]
     },
     "metadata": {},
     "output_type": "display_data"
    }
   ],
   "source": [
    "print(cota_data.rectal_or_colon_ca.value_counts())\n",
    "print(cota_data.rectal_or_colon_ca.value_counts().plot(kind='bar',fontsize=15,title='Rectal or Colon Cancer'))"
   ]
  },
  {
   "cell_type": "code",
   "execution_count": 1270,
   "metadata": {},
   "outputs": [
    {
     "name": "stdout",
     "output_type": "stream",
     "text": [
      "Not Assessed    8371\n",
      "False           1152\n",
      "Not Reported     266\n",
      "True             175\n",
      "NULL              36\n",
      "Name: braf_mutation, dtype: int64\n"
     ]
    },
    {
     "data": {
      "text/plain": [
       "<matplotlib.axes._subplots.AxesSubplot at 0x123f9c9e8>"
      ]
     },
     "execution_count": 1270,
     "metadata": {},
     "output_type": "execute_result"
    },
    {
     "data": {
      "image/png": "[encoded data removed]",
      "text/plain": [
       "<Figure size 432x288 with 1 Axes>"
      ]
     },
     "metadata": {},
     "output_type": "display_data"
    }
   ],
   "source": [
    "print(cota_data.braf_mutation.value_counts())\n",
    "cota_data.braf_mutation.value_counts().plot(kind='bar',fontsize=15,title='BRAF gene mutational status')"
   ]
  },
  {
   "cell_type": "code",
   "execution_count": 1271,
   "metadata": {},
   "outputs": [
    {
     "name": "stdout",
     "output_type": "stream",
     "text": [
      "metastatic     3935\n",
      "adjuvant       3271\n",
      "neoadjuvant    2794\n",
      "Name: therapy_type, dtype: int64\n"
     ]
    },
    {
     "data": {
      "text/plain": [
       "<matplotlib.axes._subplots.AxesSubplot at 0x123fbe668>"
      ]
     },
     "execution_count": 1271,
     "metadata": {},
     "output_type": "execute_result"
    },
    {
     "data": {
      "image/png": "[encoded data removed]",
      "text/plain": [
       "<Figure size 432x288 with 1 Axes>"
      ]
     },
     "metadata": {},
     "output_type": "display_data"
    }
   ],
   "source": [
    "print(cota_data.therapy_type.value_counts())\n",
    "cota_data.therapy_type.value_counts().plot(kind='bar',title='Category of Treatment',fontsize=15)"
   ]
  },
  {
   "cell_type": "markdown",
   "metadata": {},
   "source": [
    "### 4. resection column"
   ]
  },
  {
   "cell_type": "code",
   "execution_count": 1272,
   "metadata": {},
   "outputs": [
    {
     "data": {
      "text/plain": [
       "array(['r0: no residual tumor', 'not assessed', 'not reported', 'r0',\n",
       "       'r1: microscopic residual tumor', nan, 'r1',\n",
       "       'r2: macroscopic residual tumor', 'r2: macrospopic residual tumor',\n",
       "       'r2', 'r2 (colonoscopy only)', 'r2, then 2nd time r0'],\n",
       "      dtype=object)"
      ]
     },
     "execution_count": 1272,
     "metadata": {},
     "output_type": "execute_result"
    }
   ],
   "source": [
    "cota_data.resection.unique()"
   ]
  },
  {
   "cell_type": "code",
   "execution_count": 1273,
   "metadata": {},
   "outputs": [],
   "source": [
    "dict_resection={'r0: no residual tumor':'r0', 'not assessed':'Not Assessed',\n",
    "                'not reported':'Not Reported','r1: microscopic residual tumor':'r1',\n",
    "                np.nan:'NULL','r2: macroscopic residual tumor':'r2',\n",
    "                'r2: macrospopic residual tumor':'r2','r2 (colonoscopy only)':'r2',\n",
    "                'r2, then 2nd time r0':'r0'}"
   ]
  },
  {
   "cell_type": "code",
   "execution_count": 1274,
   "metadata": {},
   "outputs": [],
   "source": [
    "#cota_data.resection=cota_data.resection.astype(str).str[0:2]\n",
    "cota_data.resection=replace_all(cota_data,'resection',dict_resection)"
   ]
  },
  {
   "cell_type": "code",
   "execution_count": 1275,
   "metadata": {},
   "outputs": [
    {
     "data": {
      "text/plain": [
       "array(['r0', 'Not Assessed', 'Not Reported', 'r1', 'NULL', 'r2'],\n",
       "      dtype=object)"
      ]
     },
     "execution_count": 1275,
     "metadata": {},
     "output_type": "execute_result"
    }
   ],
   "source": [
    "cota_data.resection.unique()"
   ]
  },
  {
   "cell_type": "code",
   "execution_count": 1276,
   "metadata": {},
   "outputs": [
    {
     "name": "stdout",
     "output_type": "stream",
     "text": [
      "Not Assessed    4673\n",
      "r0              2703\n",
      "Not Reported    1496\n",
      "NULL             789\n",
      "r1               251\n",
      "r2                88\n",
      "Name: resection, dtype: int64\n"
     ]
    },
    {
     "data": {
      "text/plain": [
       "<matplotlib.axes._subplots.AxesSubplot at 0x123fd0ef0>"
      ]
     },
     "execution_count": 1276,
     "metadata": {},
     "output_type": "execute_result"
    },
    {
     "data": {
      "image/png": "[encoded data removed]",
      "text/plain": [
       "<Figure size 432x288 with 1 Axes>"
      ]
     },
     "metadata": {},
     "output_type": "display_data"
    }
   ],
   "source": [
    "print(cota_data.resection.value_counts())\n",
    "cota_data.resection.value_counts().plot(kind='bar',fontsize=14,title='Status of the tumor following treatment')"
   ]
  },
  {
   "cell_type": "markdown",
   "metadata": {},
   "source": [
    "### 5. lymph_nodes_removed column"
   ]
  },
  {
   "cell_type": "code",
   "execution_count": 1277,
   "metadata": {},
   "outputs": [
    {
     "data": {
      "text/plain": [
       "array(['1 positive', '14', '24', '>12', '15', '21', '25', '9', '0', nan,\n",
       "       '>18', '> 12', '12 (post tx)', '26', '5', '18', '11', '22', 'no',\n",
       "       '12', '30', '13', '20', '<12', '16', '33', '17', '0 reported',\n",
       "       '>7', '10', 'notassessed', '19', '7', '32', 'thirty', '41', '52',\n",
       "       '43', '28', '46', '27', '36', '6', '23', 'not assesssed', '29',\n",
       "       '47', 'not assessed from rectal', '51', 'not assesesd', '56',\n",
       "       'no records', '69', '34', 'not assesses', '8', '3',\n",
       "       'not available', 'not asssessed'], dtype=object)"
      ]
     },
     "execution_count": 1277,
     "metadata": {},
     "output_type": "execute_result"
    }
   ],
   "source": [
    "cota_data.lymph_nodes_removed.unique()"
   ]
  },
  {
   "cell_type": "code",
   "execution_count": 1278,
   "metadata": {
    "scrolled": true
   },
   "outputs": [],
   "source": [
    "#cota_data.lymph_nodes_removed.value_counts()"
   ]
  },
  {
   "cell_type": "code",
   "execution_count": 1279,
   "metadata": {},
   "outputs": [],
   "source": [
    "dict_lymph_nodes_removed={'1 positive':'1','0 reported':'0','no':'NO',\n",
    "                          'notassessed':'Not Assessed',\n",
    "                          'thirty':'30',np.nan:'NULL','not assesssed':'Not Assessed',\n",
    "                          'not assessed from rectal':'Not Assessed',\n",
    "                          'not assesesd':'Not Assessed','12 (post tx)':'12',\n",
    "                          'no records':'NULL','not assesses':'Not Assessed',\n",
    "                          'not available':'NULL','not asssessed':'Not Assessed'}"
   ]
  },
  {
   "cell_type": "code",
   "execution_count": 1280,
   "metadata": {},
   "outputs": [],
   "source": [
    "cota_data.lymph_nodes_removed=replace_all(cota_data,'lymph_nodes_removed',dict_lymph_nodes_removed)\n",
    "cota_data.lymph_nodes_removed=cota_data.lymph_nodes_removed.str.lstrip('>').str.lstrip('<').str.lstrip('> ')\n"
   ]
  },
  {
   "cell_type": "code",
   "execution_count": 1281,
   "metadata": {},
   "outputs": [
    {
     "data": {
      "text/plain": [
       "array(['1', '14', '24', '12', '15', '21', '25', '9', '0', 'NULL', '18',\n",
       "       '26', '5', '11', '22', 'NO', '30', '13', '20', '16', '33', '17',\n",
       "       '7', '10', 'Not Assessed', '19', '32', '41', '52', '43', '28',\n",
       "       '46', '27', '36', '6', '23', '29', '47', '51', '56', '69', '34',\n",
       "       '8', '3'], dtype=object)"
      ]
     },
     "execution_count": 1281,
     "metadata": {},
     "output_type": "execute_result"
    }
   ],
   "source": [
    "cota_data.lymph_nodes_removed.unique()"
   ]
  },
  {
   "cell_type": "code",
   "execution_count": 1282,
   "metadata": {},
   "outputs": [
    {
     "name": "stdout",
     "output_type": "stream",
     "text": [
      "12    2134\n",
      "18    1006\n",
      "0      826\n",
      "1      509\n",
      "7      426\n",
      "Name: lymph_nodes_removed, dtype: int64\n"
     ]
    },
    {
     "data": {
      "text/plain": [
       "<matplotlib.axes._subplots.AxesSubplot at 0x1252adfd0>"
      ]
     },
     "execution_count": 1282,
     "metadata": {},
     "output_type": "execute_result"
    },
    {
     "data": {
      "image/png": "[encoded data removed]",
      "text/plain": [
       "<Figure size 864x360 with 1 Axes>"
      ]
     },
     "metadata": {},
     "output_type": "display_data"
    }
   ],
   "source": [
    "print(cota_data.lymph_nodes_removed.value_counts().head())\n",
    "cota_data.lymph_nodes_removed.value_counts().plot(kind='bar',figsize=(12,5),fontsize=14,title='Number of nodes surgically removed')"
   ]
  },
  {
   "cell_type": "markdown",
   "metadata": {},
   "source": [
    "### 6. patient_preference column"
   ]
  },
  {
   "cell_type": "code",
   "execution_count": 1283,
   "metadata": {},
   "outputs": [
    {
     "data": {
      "text/plain": [
       "array(['not assessed', 'no', 'yes', 'n o', 'yes (not at jtcc)',\n",
       "       'no records', '0', 'yes (no consult)', 'yes(lost to follow up)',\n",
       "       'consult only', 'unknown'], dtype=object)"
      ]
     },
     "execution_count": 1283,
     "metadata": {},
     "output_type": "execute_result"
    }
   ],
   "source": [
    "cota_data.patient_preference.unique()"
   ]
  },
  {
   "cell_type": "code",
   "execution_count": 1284,
   "metadata": {},
   "outputs": [],
   "source": [
    "dict_patient_preference={'not assessed':'Not Assessed', 'no':'False', 'yes':'True', \n",
    "                         'n o':'False','yes (not at jtcc)':'True','no records':'NULL',\n",
    "                         '0':'False','yes (no consult)':'True', \n",
    "                         'yes(lost to follow up)':'True','consult only':'True', \n",
    "                         'unknown':'NULL'}"
   ]
  },
  {
   "cell_type": "code",
   "execution_count": 1285,
   "metadata": {},
   "outputs": [],
   "source": [
    "cota_data.patient_preference=replace_all(cota_data,'patient_preference',dict_patient_preference)"
   ]
  },
  {
   "cell_type": "code",
   "execution_count": 1286,
   "metadata": {},
   "outputs": [
    {
     "data": {
      "text/plain": [
       "array(['Not Assessed', 'False', 'True', 'NULL'], dtype=object)"
      ]
     },
     "execution_count": 1286,
     "metadata": {},
     "output_type": "execute_result"
    }
   ],
   "source": [
    "cota_data.patient_preference.unique()"
   ]
  },
  {
   "cell_type": "code",
   "execution_count": 1304,
   "metadata": {},
   "outputs": [
    {
     "name": "stdout",
     "output_type": "stream",
     "text": [
      "False           6701\n",
      "Not Assessed    1799\n",
      "True            1475\n",
      "NULL              25\n",
      "Name: patient_preference, dtype: int64\n"
     ]
    },
    {
     "data": {
      "text/plain": [
       "<matplotlib.axes._subplots.AxesSubplot at 0x125c2bef0>"
      ]
     },
     "execution_count": 1304,
     "metadata": {},
     "output_type": "execute_result"
    },
    {
     "data": {
      "image/png": "[encoded data removed]",
      "text/plain": [
       "<Figure size 432x288 with 1 Axes>"
      ]
     },
     "metadata": {},
     "output_type": "display_data"
    }
   ],
   "source": [
    "print(cota_data.patient_preference.value_counts().head())\n",
    "cota_data.patient_preference.value_counts().plot(kind='bar',fontsize=14,title='Patient Preference')\n"
   ]
  },
  {
   "cell_type": "markdown",
   "metadata": {},
   "source": [
    "### 7. histological_grade column"
   ]
  },
  {
   "cell_type": "code",
   "execution_count": 1314,
   "metadata": {},
   "outputs": [],
   "source": [
    "#cota_data.histological_grade.unique()"
   ]
  },
  {
   "cell_type": "code",
   "execution_count": 1288,
   "metadata": {},
   "outputs": [],
   "source": [
    "dict_histological_grade={'3':'g3','not reported':'Not Reported', \n",
    "                         'not assessed':'Not Assessed','2':'g2','1':'g1', np.nan:'NULL',\n",
    "                         'gi':'g1', 'low grade':'g1', 'mucinous carcinoma':'NULL',\n",
    "                         'no records':'NULL', 'ivb':'NULL', 'high grade(3)':'g3', '4':'g4'}"
   ]
  },
  {
   "cell_type": "code",
   "execution_count": 1289,
   "metadata": {},
   "outputs": [],
   "source": [
    "cota_data.histological_grade=replace_all(cota_data,'histological_grade',dict_histological_grade)"
   ]
  },
  {
   "cell_type": "code",
   "execution_count": 1309,
   "metadata": {},
   "outputs": [
    {
     "name": "stdout",
     "output_type": "stream",
     "text": [
      "g2              4646\n",
      "Not Assessed    2327\n",
      "g3              1917\n",
      "g1               696\n",
      "Not Reported     203\n",
      "NULL             173\n",
      "g2-3              15\n",
      "no neoplasm       13\n",
      "g4                10\n",
      "Name: histological_grade, dtype: int64\n"
     ]
    },
    {
     "data": {
      "text/plain": [
       "<matplotlib.axes._subplots.AxesSubplot at 0x125f6d710>"
      ]
     },
     "execution_count": 1309,
     "metadata": {},
     "output_type": "execute_result"
    },
    {
     "data": {
      "image/png": "[encoded data removed]",
      "text/plain": [
       "<Figure size 432x288 with 1 Axes>"
      ]
     },
     "metadata": {},
     "output_type": "display_data"
    }
   ],
   "source": [
    "print(cota_data.histological_grade.value_counts())\n",
    "cota_data.histological_grade.value_counts().plot(kind='bar',fontsize=14,title='Histological Grade')\n"
   ]
  },
  {
   "cell_type": "code",
   "execution_count": 1320,
   "metadata": {},
   "outputs": [
    {
     "ename": "AttributeError",
     "evalue": "'dict' object has no attribute 'apply'",
     "output_type": "error",
     "traceback": [
      "\u001b[0;31m---------------------------------------------------------------------------\u001b[0m",
      "\u001b[0;31mAttributeError\u001b[0m                            Traceback (most recent call last)",
      "\u001b[0;32m<ipython-input-1320-8bb476634680>\u001b[0m in \u001b[0;36m<module>\u001b[0;34m()\u001b[0m\n\u001b[0;32m----> 1\u001b[0;31m \u001b[0mdict_histological_grade\u001b[0m\u001b[0;34m.\u001b[0m\u001b[0mapply\u001b[0m\u001b[0;34m(\u001b[0m\u001b[0mpd\u001b[0m\u001b[0;34m.\u001b[0m\u001b[0mSeries\u001b[0m\u001b[0;34m)\u001b[0m\u001b[0;34m\u001b[0m\u001b[0m\n\u001b[0m",
      "\u001b[0;31mAttributeError\u001b[0m: 'dict' object has no attribute 'apply'"
     ]
    }
   ],
   "source": [
    "dict_histological_grade.apply(pd.Series)"
   ]
  },
  {
   "cell_type": "code",
   "execution_count": 1306,
   "metadata": {},
   "outputs": [],
   "source": [
    "# Save the cleaned dataset\n",
    "cota_data.to_csv('cota_ds_analyst_dataset_Cao_Lexi.csv',index=False,index_label=None)\n"
   ]
  },
  {
   "cell_type": "code",
   "execution_count": 1313,
   "metadata": {},
   "outputs": [
    {
     "data": {
      "text/plain": [
       "patient_id      patient_id_0patient_id_1patient_id_2patient_id...\n",
       "therapy_type    metastaticmetastaticmetastaticmetastaticadjuva...\n",
       "dtype: object"
      ]
     },
     "execution_count": 1313,
     "metadata": {},
     "output_type": "execute_result"
    }
   ],
   "source": [
    "cota_data[cota_data!='NULL'].sum()"
   ]
  },
  {
   "cell_type": "markdown",
   "metadata": {},
   "source": [
    "# Step 3: Answers to given questions"
   ]
  },
  {
   "attachments": {},
   "cell_type": "markdown",
   "metadata": {},
   "source": [
    "### 1. How many patients have a therapy type of ‘metastatic’ and stage IV (includes IVa,b,c etc..)?\n",
    "Answer: 1246 patients"
   ]
  },
  {
   "cell_type": "code",
   "execution_count": 1291,
   "metadata": {},
   "outputs": [
    {
     "name": "stdout",
     "output_type": "stream",
     "text": [
      "1. There are 1259 patients have a therapy type of metastatic and stage IV\n"
     ]
    }
   ],
   "source": [
    "metastatic_stageiv=cota_data[(cota_data.therapy_type=='metastatic')& (cota_data.stage=='iv')]\n",
    "print('1. There are {} patients have a therapy type of metastatic and stage IV'.format(metastatic_stageiv.shape[0]))"
   ]
  },
  {
   "attachments": {},
   "cell_type": "markdown",
   "metadata": {},
   "source": [
    "### 2.\tHow many patients have colon cancer, with stage III (include IIIa,b,c.. etc) and therapy type of ‘adjuvant’?\n",
    "Answer: 580 patients"
   ]
  },
  {
   "cell_type": "code",
   "execution_count": 1292,
   "metadata": {},
   "outputs": [
    {
     "name": "stdout",
     "output_type": "stream",
     "text": [
      "2. There are 574 patients have colon cancer, with stage III and therapy type of adjuvant\n"
     ]
    }
   ],
   "source": [
    "colon_stageiii_adjuvant=cota_data[(cota_data.rectal_or_colon_ca=='Colon')&(cota_data.stage=='iii')&(cota_data.therapy_type=='adjuvant')]\n",
    "print('2. There are {} patients have colon cancer, with stage III and therapy type of adjuvant'.format(colon_stageiii_adjuvant.shape[0]))\n"
   ]
  },
  {
   "attachments": {},
   "cell_type": "markdown",
   "metadata": {},
   "source": [
    "### 3.\tWhat proportion of patients have rectal cancer?"
   ]
  },
  {
   "cell_type": "code",
   "execution_count": 1293,
   "metadata": {},
   "outputs": [
    {
     "name": "stdout",
     "output_type": "stream",
     "text": [
      "3. Proportion of patients have rectal cancer is 0.2118\n"
     ]
    }
   ],
   "source": [
    "rectal=cota_data[(cota_data.rectal_or_colon_ca=='Rectal')]\n",
    "rectal_and_colon=cota_data[(cota_data.rectal_or_colon_ca=='Rectal')]\n",
    "print('3. Proportion of patients have rectal cancer is {}'.format(rectal.shape[0]/cota_data.shape[0]))"
   ]
  },
  {
   "attachments": {},
   "cell_type": "markdown",
   "metadata": {},
   "source": [
    "### 4.\tWhat is the probability mass function of lymph_nodes_removed?"
   ]
  },
  {
   "cell_type": "markdown",
   "metadata": {},
   "source": [
    " A Probability Mass Function (PMF), also called a frequency function, gives probabilities for discrete random variables. \n",
    " \n",
    "A PMF equation looks like this: P(X = x), which means the probability that X takes on some value x."
   ]
  },
  {
   "cell_type": "markdown",
   "metadata": {},
   "source": [
    "I will drop NULL, Not Assessed and NO values because they are not helpful for the calculation, and because values with NO are ambiguous to be included in this calculation"
   ]
  },
  {
   "cell_type": "code",
   "execution_count": 1300,
   "metadata": {},
   "outputs": [
    {
     "name": "stdout",
     "output_type": "stream",
     "text": [
      "After dropping NULL, Not Assessed and NO values, lymph_nodes_removed column has 9224 rows\n"
     ]
    }
   ],
   "source": [
    "# Drop NULL and Not Assessed values because they're not helpful for calculation\n",
    "lymph_nodes_removed=cota_data.lymph_nodes_removed[(cota_data.lymph_nodes_removed!='NULL')&(cota_data.lymph_nodes_removed!='Not Assessed')&(cota_data.lymph_nodes_removed!='NO')]\n",
    "print('After dropping NULL, Not Assessed and NO values, lymph_nodes_removed column has {} rows'.format(lymph_nodes_removed.shape[0]))\n"
   ]
  },
  {
   "cell_type": "code",
   "execution_count": 1301,
   "metadata": {
    "scrolled": false
   },
   "outputs": [
    {
     "data": {
      "text/plain": [
       "12    0.231353\n",
       "18    0.109063\n",
       "0     0.089549\n",
       "1     0.055182\n",
       "7     0.046184\n",
       "16    0.036210\n",
       "30    0.033933\n",
       "13    0.032958\n",
       "15    0.032415\n",
       "14    0.030681\n",
       "17    0.029814\n",
       "20    0.022984\n",
       "21    0.022767\n",
       "26    0.020490\n",
       "19    0.019948\n",
       "23    0.017780\n",
       "24    0.017563\n",
       "10    0.017021\n",
       "11    0.016262\n",
       "9     0.015720\n",
       "22    0.015720\n",
       "28    0.010516\n",
       "6     0.009866\n",
       "33    0.009540\n",
       "29    0.007372\n",
       "25    0.007372\n",
       "27    0.005421\n",
       "32    0.005421\n",
       "3     0.004553\n",
       "41    0.003903\n",
       "52    0.003036\n",
       "34    0.002927\n",
       "8     0.002819\n",
       "47    0.002060\n",
       "56    0.002060\n",
       "51    0.001843\n",
       "5     0.001735\n",
       "46    0.001735\n",
       "43    0.001518\n",
       "36    0.001518\n",
       "69    0.001193\n",
       "Name: lymph_nodes_removed, dtype: float64"
      ]
     },
     "execution_count": 1301,
     "metadata": {},
     "output_type": "execute_result"
    }
   ],
   "source": [
    "# Probability mass function is equal to total counts of each value in lymph_nodes_removed\n",
    "# divided by total number of entries in lymph_nodes_removed column (excluding NULL and \n",
    "# Not Assessed values)\n",
    "pmf = lymph_nodes_removed.value_counts()/ len(lymph_nodes_removed)\n",
    "pmf"
   ]
  },
  {
   "cell_type": "code",
   "execution_count": 1302,
   "metadata": {},
   "outputs": [
    {
     "data": {
      "text/plain": [
       "<matplotlib.axes._subplots.AxesSubplot at 0x123fa1940>"
      ]
     },
     "execution_count": 1302,
     "metadata": {},
     "output_type": "execute_result"
    },
    {
     "data": {
      "image/png": "[encoded data removed]",
      "text/plain": [
       "<Figure size 1080x720 with 1 Axes>"
      ]
     },
     "metadata": {},
     "output_type": "display_data"
    }
   ],
   "source": [
    "pmf.plot(kind='bar',figsize=(15,10),title='Probability Distribution')"
   ]
  },
  {
   "cell_type": "code",
   "execution_count": null,
   "metadata": {},
   "outputs": [],
   "source": []
  },
  {
   "cell_type": "code",
   "execution_count": null,
   "metadata": {},
   "outputs": [],
   "source": []
  },
  {
   "cell_type": "code",
   "execution_count": null,
   "metadata": {},
   "outputs": [],
   "source": []
  },
  {
   "cell_type": "code",
   "execution_count": null,
   "metadata": {},
   "outputs": [],
   "source": []
  }
 ],
 "metadata": {
  "kernelspec": {
   "display_name": "Python 3",
   "language": "python",
   "name": "python3"
  },
  "language_info": {
   "codemirror_mode": {
    "name": "ipython",
    "version": 3
   },
   "file_extension": ".py",
   "mimetype": "text/x-python",
   "name": "python",
   "nbconvert_exporter": "python",
   "pygments_lexer": "ipython3",
   "version": "3.6.6"
  }
 },
 "nbformat": 4,
 "nbformat_minor": 2
}
