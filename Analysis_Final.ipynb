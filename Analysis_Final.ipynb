{
 "cells": [
  {
   "cell_type": "markdown",
   "metadata": {},
   "source": [
    "# Data Cleaning and Overview\n"
   ]
  },
  {
   "cell_type": "markdown",
   "metadata": {},
   "source": [
    "# Step 1: Import Python packages and define functions\n",
    "I need to import (pandas and numpy) packages for cleaning the dataset.<br> \n",
    "Since the control data values file (aux_dataset.xlsx file) is provided, I will define some functions to convert the excel worksheets into dictionaries. Then, I use the dictionaries to replace the values accordingly to the control values for each column of the dataset.<br>\n",
    "To ensure the uniformity of the data, I replaced \"FALSE\" to \"False\", \"NULL_\" to \"NULL\" and \"rectal\" to \"Rectal\" in \"clean\" column of \"braf_mutation\" worksheet inside aux_dataset.xlsx file"
   ]
  },
  {
   "cell_type": "code",
   "execution_count": 197,
   "metadata": {},
   "outputs": [],
   "source": [
    "#import packages\n",
    "import pandas as pd\n",
    "import numpy as np\n",
    "\n",
    "import matplotlib\n",
    "import matplotlib.pyplot as plt"
   ]
  },
  {
   "cell_type": "code",
   "execution_count": 198,
   "metadata": {},
   "outputs": [],
   "source": [
    "# Define functions \n",
    "file = './aux_dataset.xlsx'\n",
    "\n",
    "# Function to get dictionaries from aux_dataset.xlsx file for cleaning\n",
    "def get_dict(file,i):\n",
    "    df_i=pd.read_excel('./aux_dataset.xlsx', sheet_name=i,header=0,index_col=None)\n",
    "    # replaced \"\" to \"NULL\", \"FALSE\" to \"False\", \"NULL_\" to \"NULL\"\n",
    "    df_i.clean=df_i.clean.astype(object).replace(np.nan, 'NULL').replace('FALSE','False').replace('NULL_','NULL')\n",
    "    dict_i=df_i.set_index('raw')['clean'].to_dict()\n",
    "    return dict_i\n",
    "\n",
    "# Replace value according to dictionaries\n",
    "def replace_all(df,col, dic):\n",
    "    for i, j in dic.items():\n",
    "        df[str(col)] = df[str(col)].replace(i, j)\n",
    "    return df[str(col)].astype(str)\n",
    "\n",
    "def missing_data(df):\n",
    "    no_null = df.notnull().sum()\n",
    "    missing = df.isnull().sum()\n",
    "    percent = df.isnull().sum()/df.shape[0]*100\n",
    "    missing_data = pd.concat([no_null,missing, percent], axis=1, \n",
    "                             keys=['NOT-null','Missing', 'Percent Missing'])\n",
    "    return missing_data.sort_values(by='Missing', ascending=False)\n",
    "\n",
    "\n",
    "#return table from a ditionary \n",
    "def table_of_dict(dict_):\n",
    "    df = pd.DataFrame()\n",
    "    df['raw'] = dict_.keys()\n",
    "    df['clean'] = dict_.values()\n",
    "    return df\n"
   ]
  },
  {
   "cell_type": "markdown",
   "metadata": {},
   "source": [
    "# Step 2: Import, explore and clean the dataset\n"
   ]
  },
  {
   "cell_type": "code",
   "execution_count": 199,
   "metadata": {},
   "outputs": [
    {
     "name": "stdout",
     "output_type": "stream",
     "text": [
      "The dataset has 10000 rows and 10 columns\n"
     ]
    }
   ],
   "source": [
    "cota_data = pd.read_csv('./cota_ds_analyst_dataset.csv')\n",
    "\n",
    "print('The dataset has {} rows and {} columns'.format(cota_data.shape[0],cota_data.shape[1]))"
   ]
  },
  {
   "cell_type": "code",
   "execution_count": 200,
   "metadata": {},
   "outputs": [
    {
     "data": {
      "text/html": [
       "<div>\n",
       "<style scoped>\n",
       "    .dataframe tbody tr th:only-of-type {\n",
       "        vertical-align: middle;\n",
       "    }\n",
       "\n",
       "    .dataframe tbody tr th {\n",
       "        vertical-align: top;\n",
       "    }\n",
       "\n",
       "    .dataframe thead th {\n",
       "        text-align: right;\n",
       "    }\n",
       "</style>\n",
       "<table border=\"1\" class=\"dataframe\">\n",
       "  <thead>\n",
       "    <tr style=\"text-align: right;\">\n",
       "      <th></th>\n",
       "      <th>patient_id</th>\n",
       "      <th>date_of_birth</th>\n",
       "      <th>stage</th>\n",
       "      <th>rectal_or_colon_ca</th>\n",
       "      <th>braf_mutation</th>\n",
       "      <th>resection</th>\n",
       "      <th>lymph_nodes_removed</th>\n",
       "      <th>therapy_type</th>\n",
       "      <th>patient_preference</th>\n",
       "      <th>histological_grade</th>\n",
       "    </tr>\n",
       "  </thead>\n",
       "  <tbody>\n",
       "    <tr>\n",
       "      <th>0</th>\n",
       "      <td>patient_id_0</td>\n",
       "      <td>December 28, 1953</td>\n",
       "      <td>iiia</td>\n",
       "      <td>colon</td>\n",
       "      <td>not assessed</td>\n",
       "      <td>r0: no residual tumor</td>\n",
       "      <td>1 positive</td>\n",
       "      <td>metastatic</td>\n",
       "      <td>not assessed</td>\n",
       "      <td>g2</td>\n",
       "    </tr>\n",
       "    <tr>\n",
       "      <th>1</th>\n",
       "      <td>patient_id_1</td>\n",
       "      <td>2009-07-09</td>\n",
       "      <td>stage iiia</td>\n",
       "      <td>colon</td>\n",
       "      <td>not assessed</td>\n",
       "      <td>not assessed</td>\n",
       "      <td>14</td>\n",
       "      <td>metastatic</td>\n",
       "      <td>no</td>\n",
       "      <td>3</td>\n",
       "    </tr>\n",
       "    <tr>\n",
       "      <th>2</th>\n",
       "      <td>patient_id_2</td>\n",
       "      <td>1983-04-16</td>\n",
       "      <td>iiic</td>\n",
       "      <td>colon</td>\n",
       "      <td>not assessed</td>\n",
       "      <td>not assessed</td>\n",
       "      <td>24</td>\n",
       "      <td>metastatic</td>\n",
       "      <td>not assessed</td>\n",
       "      <td>g1</td>\n",
       "    </tr>\n",
       "    <tr>\n",
       "      <th>3</th>\n",
       "      <td>patient_id_3</td>\n",
       "      <td>2018-08-13</td>\n",
       "      <td>i</td>\n",
       "      <td>rectal</td>\n",
       "      <td>not assessed</td>\n",
       "      <td>not assessed</td>\n",
       "      <td>1 positive</td>\n",
       "      <td>metastatic</td>\n",
       "      <td>no</td>\n",
       "      <td>not reported</td>\n",
       "    </tr>\n",
       "    <tr>\n",
       "      <th>4</th>\n",
       "      <td>patient_id_4</td>\n",
       "      <td>October 09, 2017</td>\n",
       "      <td>iib</td>\n",
       "      <td>rectal</td>\n",
       "      <td>not assessed</td>\n",
       "      <td>not assessed</td>\n",
       "      <td>&gt;12</td>\n",
       "      <td>adjuvant</td>\n",
       "      <td>yes</td>\n",
       "      <td>g1</td>\n",
       "    </tr>\n",
       "  </tbody>\n",
       "</table>\n",
       "</div>"
      ],
      "text/plain": [
       "     patient_id      date_of_birth       stage rectal_or_colon_ca  \\\n",
       "0  patient_id_0  December 28, 1953        iiia              colon   \n",
       "1  patient_id_1         2009-07-09  stage iiia              colon   \n",
       "2  patient_id_2         1983-04-16        iiic              colon   \n",
       "3  patient_id_3         2018-08-13           i             rectal   \n",
       "4  patient_id_4   October 09, 2017         iib             rectal   \n",
       "\n",
       "  braf_mutation              resection lymph_nodes_removed therapy_type  \\\n",
       "0  not assessed  r0: no residual tumor          1 positive   metastatic   \n",
       "1  not assessed           not assessed                  14   metastatic   \n",
       "2  not assessed           not assessed                  24   metastatic   \n",
       "3  not assessed           not assessed          1 positive   metastatic   \n",
       "4  not assessed           not assessed                 >12     adjuvant   \n",
       "\n",
       "  patient_preference histological_grade  \n",
       "0       not assessed                 g2  \n",
       "1                 no                  3  \n",
       "2       not assessed                 g1  \n",
       "3                 no       not reported  \n",
       "4                yes                 g1  "
      ]
     },
     "execution_count": 200,
     "metadata": {},
     "output_type": "execute_result"
    }
   ],
   "source": [
    "cota_data.head()"
   ]
  },
  {
   "cell_type": "code",
   "execution_count": 201,
   "metadata": {},
   "outputs": [
    {
     "data": {
      "text/html": [
       "<div>\n",
       "<style scoped>\n",
       "    .dataframe tbody tr th:only-of-type {\n",
       "        vertical-align: middle;\n",
       "    }\n",
       "\n",
       "    .dataframe tbody tr th {\n",
       "        vertical-align: top;\n",
       "    }\n",
       "\n",
       "    .dataframe thead th {\n",
       "        text-align: right;\n",
       "    }\n",
       "</style>\n",
       "<table border=\"1\" class=\"dataframe\">\n",
       "  <thead>\n",
       "    <tr style=\"text-align: right;\">\n",
       "      <th></th>\n",
       "      <th>NOT-null</th>\n",
       "      <th>Missing</th>\n",
       "      <th>Percent Missing</th>\n",
       "    </tr>\n",
       "  </thead>\n",
       "  <tbody>\n",
       "    <tr>\n",
       "      <th>resection</th>\n",
       "      <td>9211</td>\n",
       "      <td>789</td>\n",
       "      <td>7.89</td>\n",
       "    </tr>\n",
       "    <tr>\n",
       "      <th>lymph_nodes_removed</th>\n",
       "      <td>9620</td>\n",
       "      <td>380</td>\n",
       "      <td>3.80</td>\n",
       "    </tr>\n",
       "    <tr>\n",
       "      <th>rectal_or_colon_ca</th>\n",
       "      <td>9732</td>\n",
       "      <td>268</td>\n",
       "      <td>2.68</td>\n",
       "    </tr>\n",
       "    <tr>\n",
       "      <th>histological_grade</th>\n",
       "      <td>9885</td>\n",
       "      <td>115</td>\n",
       "      <td>1.15</td>\n",
       "    </tr>\n",
       "    <tr>\n",
       "      <th>braf_mutation</th>\n",
       "      <td>9974</td>\n",
       "      <td>26</td>\n",
       "      <td>0.26</td>\n",
       "    </tr>\n",
       "    <tr>\n",
       "      <th>patient_id</th>\n",
       "      <td>10000</td>\n",
       "      <td>0</td>\n",
       "      <td>0.00</td>\n",
       "    </tr>\n",
       "    <tr>\n",
       "      <th>date_of_birth</th>\n",
       "      <td>10000</td>\n",
       "      <td>0</td>\n",
       "      <td>0.00</td>\n",
       "    </tr>\n",
       "    <tr>\n",
       "      <th>stage</th>\n",
       "      <td>10000</td>\n",
       "      <td>0</td>\n",
       "      <td>0.00</td>\n",
       "    </tr>\n",
       "    <tr>\n",
       "      <th>therapy_type</th>\n",
       "      <td>10000</td>\n",
       "      <td>0</td>\n",
       "      <td>0.00</td>\n",
       "    </tr>\n",
       "    <tr>\n",
       "      <th>patient_preference</th>\n",
       "      <td>10000</td>\n",
       "      <td>0</td>\n",
       "      <td>0.00</td>\n",
       "    </tr>\n",
       "  </tbody>\n",
       "</table>\n",
       "</div>"
      ],
      "text/plain": [
       "                     NOT-null  Missing  Percent Missing\n",
       "resection                9211      789             7.89\n",
       "lymph_nodes_removed      9620      380             3.80\n",
       "rectal_or_colon_ca       9732      268             2.68\n",
       "histological_grade       9885      115             1.15\n",
       "braf_mutation            9974       26             0.26\n",
       "patient_id              10000        0             0.00\n",
       "date_of_birth           10000        0             0.00\n",
       "stage                   10000        0             0.00\n",
       "therapy_type            10000        0             0.00\n",
       "patient_preference      10000        0             0.00"
      ]
     },
     "execution_count": 201,
     "metadata": {},
     "output_type": "execute_result"
    }
   ],
   "source": [
    "missing_data(cota_data)"
   ]
  },
  {
   "cell_type": "code",
   "execution_count": 202,
   "metadata": {},
   "outputs": [
    {
     "name": "stdout",
     "output_type": "stream",
     "text": [
      "Unique values of patient_id column\n",
      "['patient_id_0' 'patient_id_1' 'patient_id_2' ... 'patient_id_9997'\n",
      " 'patient_id_9998' 'patient_id_9999']\n",
      "\n",
      "Unique values of date_of_birth column\n",
      "['December 28, 1953' '2009-07-09' '1983-04-16' ... '1953-04-18'\n",
      " '2012-07-15' 'September 24, 1974']\n",
      "\n",
      "Unique values of stage column\n",
      "['iiia' 'stage iiia' 'iiic' 'i' 'iib' 'iiib' 'not assessed' 'stage iib'\n",
      " 'stage iiib' 'ivb' 'iia' 'stage i' 'stage iva' 'stage iia' 'iva'\n",
      " 'not staged' 'stage ivb' 'stage 0' 'iic' 'stage iiic' 'unknown'\n",
      " 'stage i (staging not completed)' 'not reported' 'no neoplasm' 'stage 1'\n",
      " '0' '!!a' 'orif of pathologic fracture arm by ortho' 'no records' '111a'\n",
      " '1' 'not fully staged' 'stageiva' 'not reporte' 'stage iic']\n",
      "\n",
      "Unique values of rectal_or_colon_ca column\n",
      "['colon' 'rectal' nan 'cecum/pancreatic' 'colomn' 'anus' 'colon/rectal'\n",
      " 'small cell rectal' 'neither found' 'proximal' 'not assessed'\n",
      " 'no records' 'apendix ca' 'neuroendocrine']\n",
      "\n",
      "Unique values of braf_mutation column\n",
      "['not assessed' 'wild type' 'not mutated (wild type)' 'no mutation'\n",
      " 'not reported' 'mutated' 'no' nan 'positive' 'deficient' 'notassessed'\n",
      " 'negative' 'intact' 'no records' 'absent' 'none detected' 'not asseseed'\n",
      " 'not assesed']\n",
      "\n",
      "Unique values of resection column\n",
      "['r0: no residual tumor' 'not assessed' 'not reported' 'r0'\n",
      " 'r1: microscopic residual tumor' nan 'r1'\n",
      " 'r2: macroscopic residual tumor' 'r2: macrospopic residual tumor' 'r2'\n",
      " 'r2 (colonoscopy only)' 'r2, then 2nd time r0']\n",
      "\n",
      "Unique values of lymph_nodes_removed column\n",
      "['1 positive' '14' '24' '>12' '15' '21' '25' '9' '0' nan '>18' '> 12'\n",
      " '12 (post tx)' '26' '5' '18' '11' '22' 'no' '12' '30' '13' '20' '<12'\n",
      " '16' '33' '17' '0 reported' '>7' '10' 'notassessed' '19' '7' '32'\n",
      " 'thirty' '41' '52' '43' '28' '46' '27' '36' '6' '23' 'not assesssed' '29'\n",
      " '47' 'not assessed from rectal' '51' 'not assesesd' '56' 'no records'\n",
      " '69' '34' 'not assesses' '8' '3' 'not available' 'not asssessed']\n",
      "\n",
      "Unique values of therapy_type column\n",
      "['metastatic' 'adjuvant' 'neoadjuvant' 'surgery' 'surgery only'\n",
      " 'surgery alone' 'adj recommended' 'adjuvant(observation)'\n",
      " 'adjuvant(clinicl monitoring)' 'palliative care' 'ad(not seen @ jtcc)'\n",
      " 'neoadjuvant recommended by surgeon' 'surgery/observation'\n",
      " 'surgery (chemo recommended)' 'hospice'\n",
      " 'surgery only (no oncology consult for colon ca)'\n",
      " 'metastatic(palliation)'\n",
      " 'palliative as patient also has metastatic endometrial'\n",
      " \"surgery(didn't f/u after consult)\" 'consult only/palliative'\n",
      " \"neoadjuvant recommended. pt didn't f/u\"\n",
      " 'surgery only, not treated at jtcc' 'adj chemo recommended'\n",
      " 'hospice referral' 'surgery then observation' 'adjuvant (not here)'\n",
      " 'metastatic/hospice']\n",
      "\n",
      "Unique values of patient_preference column\n",
      "['not assessed' 'no' 'yes' 'n o' 'yes (not at jtcc)' 'no records' '0'\n",
      " 'yes (no consult)' 'yes(lost to follow up)' 'consult only' 'unknown']\n",
      "\n",
      "Unique values of histological_grade column\n",
      "['g2' '3' 'g1' 'not reported' 'not assessed' 'g3' '2' 'g2-3' '1' nan\n",
      " 'no neoplasm' 'gi' 'low grade' 'mucinous carcinoma' 'no records' 'ivb'\n",
      " 'high grade(3)' '4']\n",
      "\n"
     ]
    }
   ],
   "source": [
    "for i in cota_data.columns:\n",
    "    print('Unique values of {} column\\n{}\\n'.format(str(i),cota_data[str(i)].unique()))"
   ]
  },
  {
   "cell_type": "markdown",
   "metadata": {},
   "source": [
    "We can see that the values in each columns are not uniform, so we will need to:\n",
    "1. \"date_of_birth\": reformat date\n",
    "2. \"stage\": remove the word stage and reformat values\n",
    "3. \"rectal_or_colon_ca\": replace the values according to control values<br>\n",
    "   \"braf_mutation\": replace the values according to control values<br>\n",
    "   \"therapy_type\": replace the values according to control values<br>\n",
    "4. \"resection\": replace values with either r0, r1, r2 or NULL\n",
    "5. \"lymph_nodes_removed\": reformat values to integers or NULL\n",
    "6. \"patient_preference\": reformat values to boolean\n",
    "7. \"histological_grade\": replace values with g1, g2, g3, g4 or NULL"
   ]
  },
  {
   "cell_type": "markdown",
   "metadata": {},
   "source": [
    "### 1. date_of_birth column\n",
    "\n",
    "The format of date are not uniform"
   ]
  },
  {
   "cell_type": "code",
   "execution_count": 203,
   "metadata": {},
   "outputs": [],
   "source": [
    "#print('Unique values \\n',cota_data.date_of_birth.unique())"
   ]
  },
  {
   "cell_type": "code",
   "execution_count": 204,
   "metadata": {},
   "outputs": [],
   "source": [
    "cota_data.date_of_birth=pd.to_datetime(cota_data.date_of_birth, errors='ignore')"
   ]
  },
  {
   "cell_type": "code",
   "execution_count": 205,
   "metadata": {},
   "outputs": [
    {
     "data": {
      "text/plain": [
       "0   1953-12-28\n",
       "1   2009-07-09\n",
       "2   1983-04-16\n",
       "3   2018-08-13\n",
       "4   2017-10-09\n",
       "Name: date_of_birth, dtype: datetime64[ns]"
      ]
     },
     "execution_count": 205,
     "metadata": {},
     "output_type": "execute_result"
    }
   ],
   "source": [
    "cota_data.date_of_birth.head()"
   ]
  },
  {
   "cell_type": "markdown",
   "metadata": {},
   "source": [
    "### 2. stage column"
   ]
  },
  {
   "cell_type": "code",
   "execution_count": 206,
   "metadata": {},
   "outputs": [],
   "source": [
    "#cota_data.stage.unique()"
   ]
  },
  {
   "cell_type": "code",
   "execution_count": 207,
   "metadata": {},
   "outputs": [],
   "source": [
    "dict_stage={'not assessed':'Not Assessed','not staged':'NULL', 'unknown':'NULL',\n",
    "            'i (staging not completed)':'i', 'not reported':'Not Reported', '1':'i',\n",
    "            '!!a':'iia', 'orif of pathologic fracture arm by ortho':'NULL', \n",
    "            'no records':'NULL','111a':'iiia', 'not fully staged':'NULL',\n",
    "            'not reporte':'Not Reported'}"
   ]
  },
  {
   "cell_type": "code",
   "execution_count": 208,
   "metadata": {},
   "outputs": [],
   "source": [
    "cota_data.stage=cota_data.stage.str.lstrip('stage ')"
   ]
  },
  {
   "cell_type": "code",
   "execution_count": 209,
   "metadata": {},
   "outputs": [],
   "source": [
    "cota_data.stage=replace_all(cota_data,'stage',dict_stage)#.str.rstrip('abc')"
   ]
  },
  {
   "cell_type": "code",
   "execution_count": 210,
   "metadata": {},
   "outputs": [],
   "source": [
    "#cota_data.stage.value_counts()"
   ]
  },
  {
   "cell_type": "code",
   "execution_count": 211,
   "metadata": {},
   "outputs": [
    {
     "name": "stdout",
     "output_type": "stream",
     "text": [
      "Stage values\n",
      " iva             1939\n",
      "Not Assessed    1576\n",
      "iiib            1451\n",
      "iia             1282\n",
      "ivb             1258\n",
      "i                898\n",
      "iiia             467\n",
      "iiic             421\n",
      "iib              313\n",
      "0                141\n",
      "NULL             117\n",
      "iic               60\n",
      "Not Reported      57\n",
      "no neoplasm       20\n",
      "Name: stage, dtype: int64\n",
      "AxesSubplot(0.125,0.125;0.775x0.755)\n"
     ]
    },
    {
     "data": {
      "image/png": "[encoded data removed]",
      "text/plain": [
       "<Figure size 432x288 with 1 Axes>"
      ]
     },
     "metadata": {},
     "output_type": "display_data"
    }
   ],
   "source": [
    "print('Stage values\\n',cota_data.stage.value_counts())\n",
    "print(cota_data.stage.value_counts().plot(kind='bar',fontsize=15,title='Cancer Stages'))"
   ]
  },
  {
   "cell_type": "code",
   "execution_count": null,
   "metadata": {},
   "outputs": [],
   "source": []
  },
  {
   "cell_type": "markdown",
   "metadata": {},
   "source": [
    "### 3. rectal_or_colon_ca, braf_mutation, therapy_type columns"
   ]
  },
  {
   "cell_type": "code",
   "execution_count": 212,
   "metadata": {},
   "outputs": [],
   "source": [
    "xls = pd.ExcelFile('./aux_dataset.xlsx', on_demand = True)\n",
    "for i in xls.sheet_names:\n",
    "    dict_i=get_dict(file,str(i))\n",
    "    cota_data[str(i)]= replace_all(cota_data,str(i), dict_i)\n",
    "    "
   ]
  },
  {
   "cell_type": "code",
   "execution_count": 213,
   "metadata": {},
   "outputs": [
    {
     "data": {
      "text/plain": [
       "array(['Colon', 'Rectal', 'NULL'], dtype=object)"
      ]
     },
     "execution_count": 213,
     "metadata": {},
     "output_type": "execute_result"
    }
   ],
   "source": [
    "cota_data.rectal_or_colon_ca.unique()"
   ]
  },
  {
   "cell_type": "code",
   "execution_count": 214,
   "metadata": {},
   "outputs": [
    {
     "data": {
      "text/plain": [
       "array(['Not Assessed', 'False', 'Not Reported', 'True', 'NULL'],\n",
       "      dtype=object)"
      ]
     },
     "execution_count": 214,
     "metadata": {},
     "output_type": "execute_result"
    }
   ],
   "source": [
    "cota_data.braf_mutation.unique()"
   ]
  },
  {
   "cell_type": "code",
   "execution_count": 215,
   "metadata": {},
   "outputs": [
    {
     "data": {
      "text/plain": [
       "array(['metastatic', 'adjuvant', 'neoadjuvant'], dtype=object)"
      ]
     },
     "execution_count": 215,
     "metadata": {},
     "output_type": "execute_result"
    }
   ],
   "source": [
    "cota_data.therapy_type.unique()"
   ]
  },
  {
   "cell_type": "code",
   "execution_count": 216,
   "metadata": {},
   "outputs": [
    {
     "name": "stdout",
     "output_type": "stream",
     "text": [
      "Colon     7497\n",
      "Rectal    2118\n",
      "NULL       385\n",
      "Name: rectal_or_colon_ca, dtype: int64\n",
      "AxesSubplot(0.125,0.125;0.775x0.755)\n"
     ]
    },
    {
     "data": {
      "image/png": "[encoded data removed]",
      "text/plain": [
       "<Figure size 432x288 with 1 Axes>"
      ]
     },
     "metadata": {},
     "output_type": "display_data"
    }
   ],
   "source": [
    "print(cota_data.rectal_or_colon_ca.value_counts())\n",
    "print(cota_data.rectal_or_colon_ca.value_counts().plot(kind='bar',fontsize=15,title='Rectal or Colon Cancer'))"
   ]
  },
  {
   "cell_type": "code",
   "execution_count": 217,
   "metadata": {},
   "outputs": [
    {
     "name": "stdout",
     "output_type": "stream",
     "text": [
      "Not Assessed    8371\n",
      "False           1152\n",
      "Not Reported     266\n",
      "True             175\n",
      "NULL              36\n",
      "Name: braf_mutation, dtype: int64\n"
     ]
    },
    {
     "data": {
      "text/plain": [
       "<matplotlib.axes._subplots.AxesSubplot at 0x1153f7080>"
      ]
     },
     "execution_count": 217,
     "metadata": {},
     "output_type": "execute_result"
    },
    {
     "data": {
      "image/png": "[encoded data removed]",
      "text/plain": [
       "<Figure size 432x288 with 1 Axes>"
      ]
     },
     "metadata": {},
     "output_type": "display_data"
    }
   ],
   "source": [
    "print(cota_data.braf_mutation.value_counts())\n",
    "cota_data.braf_mutation.value_counts().plot(kind='bar',fontsize=15,title='BRAF gene mutational status')"
   ]
  },
  {
   "cell_type": "code",
   "execution_count": 218,
   "metadata": {},
   "outputs": [
    {
     "name": "stdout",
     "output_type": "stream",
     "text": [
      "metastatic     3935\n",
      "adjuvant       3271\n",
      "neoadjuvant    2794\n",
      "Name: therapy_type, dtype: int64\n"
     ]
    },
    {
     "data": {
      "text/plain": [
       "<matplotlib.axes._subplots.AxesSubplot at 0x1159e97b8>"
      ]
     },
     "execution_count": 218,
     "metadata": {},
     "output_type": "execute_result"
    },
    {
     "data": {
      "image/png": "[encoded data removed]",
      "text/plain": [
       "<Figure size 432x288 with 1 Axes>"
      ]
     },
     "metadata": {},
     "output_type": "display_data"
    }
   ],
   "source": [
    "print(cota_data.therapy_type.value_counts())\n",
    "cota_data.therapy_type.value_counts().plot(kind='bar',title='Category of Treatment',fontsize=15)"
   ]
  },
  {
   "cell_type": "markdown",
   "metadata": {},
   "source": [
    "### 4. resection column"
   ]
  },
  {
   "cell_type": "code",
   "execution_count": 219,
   "metadata": {},
   "outputs": [],
   "source": [
    "#cota_data.resection.unique()"
   ]
  },
  {
   "cell_type": "code",
   "execution_count": 220,
   "metadata": {},
   "outputs": [],
   "source": [
    "dict_resection={'r0: no residual tumor':'r0', 'not assessed':'Not Assessed',\n",
    "                'not reported':'Not Reported','r1: microscopic residual tumor':'r1',\n",
    "                np.nan:'NULL','r2: macroscopic residual tumor':'r2',\n",
    "                'r2: macrospopic residual tumor':'r2','r2 (colonoscopy only)':'r2',\n",
    "                'r2, then 2nd time r0':'r0'}"
   ]
  },
  {
   "cell_type": "code",
   "execution_count": 221,
   "metadata": {},
   "outputs": [],
   "source": [
    "#cota_data.resection=cota_data.resection.astype(str).str[0:2]\n",
    "cota_data.resection=replace_all(cota_data,'resection',dict_resection)"
   ]
  },
  {
   "cell_type": "code",
   "execution_count": 222,
   "metadata": {},
   "outputs": [
    {
     "data": {
      "text/plain": [
       "array(['r0', 'Not Assessed', 'Not Reported', 'r1', 'NULL', 'r2'],\n",
       "      dtype=object)"
      ]
     },
     "execution_count": 222,
     "metadata": {},
     "output_type": "execute_result"
    }
   ],
   "source": [
    "cota_data.resection.unique()"
   ]
  },
  {
   "cell_type": "code",
   "execution_count": 223,
   "metadata": {},
   "outputs": [
    {
     "name": "stdout",
     "output_type": "stream",
     "text": [
      "Not Assessed    4673\n",
      "r0              2703\n",
      "Not Reported    1496\n",
      "NULL             789\n",
      "r1               251\n",
      "r2                88\n",
      "Name: resection, dtype: int64\n"
     ]
    },
    {
     "data": {
      "text/plain": [
       "<matplotlib.axes._subplots.AxesSubplot at 0x115454160>"
      ]
     },
     "execution_count": 223,
     "metadata": {},
     "output_type": "execute_result"
    },
    {
     "data": {
      "image/png": "[encoded data removed]",
      "text/plain": [
       "<Figure size 432x288 with 1 Axes>"
      ]
     },
     "metadata": {},
     "output_type": "display_data"
    }
   ],
   "source": [
    "print(cota_data.resection.value_counts())\n",
    "cota_data.resection.value_counts().plot(kind='bar',fontsize=14,title='Status of the tumor following treatment')"
   ]
  },
  {
   "cell_type": "markdown",
   "metadata": {},
   "source": [
    "### 5. lymph_nodes_removed column"
   ]
  },
  {
   "cell_type": "code",
   "execution_count": 224,
   "metadata": {},
   "outputs": [
    {
     "data": {
      "text/plain": [
       "array(['1 positive', '14', '24', '>12', '15', '21', '25', '9', '0', nan,\n",
       "       '>18', '> 12', '12 (post tx)', '26', '5', '18', '11', '22', 'no',\n",
       "       '12', '30', '13', '20', '<12', '16', '33', '17', '0 reported',\n",
       "       '>7', '10', 'notassessed', '19', '7', '32', 'thirty', '41', '52',\n",
       "       '43', '28', '46', '27', '36', '6', '23', 'not assesssed', '29',\n",
       "       '47', 'not assessed from rectal', '51', 'not assesesd', '56',\n",
       "       'no records', '69', '34', 'not assesses', '8', '3',\n",
       "       'not available', 'not asssessed'], dtype=object)"
      ]
     },
     "execution_count": 224,
     "metadata": {},
     "output_type": "execute_result"
    }
   ],
   "source": [
    "cota_data.lymph_nodes_removed.unique()"
   ]
  },
  {
   "cell_type": "code",
   "execution_count": 225,
   "metadata": {
    "scrolled": true
   },
   "outputs": [],
   "source": [
    "#cota_data.lymph_nodes_removed.value_counts()"
   ]
  },
  {
   "cell_type": "code",
   "execution_count": 226,
   "metadata": {},
   "outputs": [],
   "source": [
    "dict_lymph_nodes_removed={'1 positive':'1','0 reported':'0','no':'NO',\n",
    "                          'notassessed':'Not Assessed',\n",
    "                          'thirty':'30',np.nan:'NULL','not assesssed':'Not Assessed',\n",
    "                          'not assessed from rectal':'Not Assessed',\n",
    "                          'not assesesd':'Not Assessed','12 (post tx)':'12',\n",
    "                          'no records':'NULL','not assesses':'Not Assessed',\n",
    "                          'not available':'NULL','not asssessed':'Not Assessed'}"
   ]
  },
  {
   "cell_type": "code",
   "execution_count": 227,
   "metadata": {},
   "outputs": [],
   "source": [
    "cota_data.lymph_nodes_removed=replace_all(cota_data,'lymph_nodes_removed',dict_lymph_nodes_removed)\n",
    "cota_data.lymph_nodes_removed=cota_data.lymph_nodes_removed.str.lstrip('>').str.lstrip('<').str.lstrip('> ')\n"
   ]
  },
  {
   "cell_type": "code",
   "execution_count": 228,
   "metadata": {},
   "outputs": [
    {
     "data": {
      "text/plain": [
       "array(['1', '14', '24', '12', '15', '21', '25', '9', '0', 'NULL', '18',\n",
       "       '26', '5', '11', '22', 'NO', '30', '13', '20', '16', '33', '17',\n",
       "       '7', '10', 'Not Assessed', '19', '32', '41', '52', '43', '28',\n",
       "       '46', '27', '36', '6', '23', '29', '47', '51', '56', '69', '34',\n",
       "       '8', '3'], dtype=object)"
      ]
     },
     "execution_count": 228,
     "metadata": {},
     "output_type": "execute_result"
    }
   ],
   "source": [
    "cota_data.lymph_nodes_removed.unique()"
   ]
  },
  {
   "cell_type": "code",
   "execution_count": 229,
   "metadata": {},
   "outputs": [
    {
     "name": "stdout",
     "output_type": "stream",
     "text": [
      "12    2134\n",
      "18    1006\n",
      "0      826\n",
      "1      509\n",
      "7      426\n",
      "Name: lymph_nodes_removed, dtype: int64\n"
     ]
    },
    {
     "data": {
      "text/plain": [
       "<matplotlib.axes._subplots.AxesSubplot at 0x115a44f98>"
      ]
     },
     "execution_count": 229,
     "metadata": {},
     "output_type": "execute_result"
    },
    {
     "data": {
      "image/png": "[encoded data removed]",
      "text/plain": [
       "<Figure size 864x360 with 1 Axes>"
      ]
     },
     "metadata": {},
     "output_type": "display_data"
    }
   ],
   "source": [
    "print(cota_data.lymph_nodes_removed.value_counts().head())\n",
    "cota_data.lymph_nodes_removed.value_counts().plot(kind='bar',figsize=(12,5),fontsize=14,title='Number of nodes surgically removed')"
   ]
  },
  {
   "cell_type": "markdown",
   "metadata": {},
   "source": [
    "### 6. patient_preference column"
   ]
  },
  {
   "cell_type": "code",
   "execution_count": 230,
   "metadata": {},
   "outputs": [
    {
     "data": {
      "text/plain": [
       "array(['not assessed', 'no', 'yes', 'n o', 'yes (not at jtcc)',\n",
       "       'no records', '0', 'yes (no consult)', 'yes(lost to follow up)',\n",
       "       'consult only', 'unknown'], dtype=object)"
      ]
     },
     "execution_count": 230,
     "metadata": {},
     "output_type": "execute_result"
    }
   ],
   "source": [
    "cota_data.patient_preference.unique()"
   ]
  },
  {
   "cell_type": "code",
   "execution_count": 231,
   "metadata": {},
   "outputs": [],
   "source": [
    "dict_patient_preference={'not assessed':'Not Assessed', 'no':'False', 'yes':'True', \n",
    "                         'n o':'False','yes (not at jtcc)':'True','no records':'NULL',\n",
    "                         '0':'False','yes (no consult)':'True', \n",
    "                         'yes(lost to follow up)':'True','consult only':'True', \n",
    "                         'unknown':'NULL'}"
   ]
  },
  {
   "cell_type": "code",
   "execution_count": 232,
   "metadata": {},
   "outputs": [],
   "source": [
    "cota_data.patient_preference=replace_all(cota_data,'patient_preference',dict_patient_preference)"
   ]
  },
  {
   "cell_type": "code",
   "execution_count": 233,
   "metadata": {},
   "outputs": [
    {
     "data": {
      "text/plain": [
       "array(['Not Assessed', 'False', 'True', 'NULL'], dtype=object)"
      ]
     },
     "execution_count": 233,
     "metadata": {},
     "output_type": "execute_result"
    }
   ],
   "source": [
    "cota_data.patient_preference.unique()"
   ]
  },
  {
   "cell_type": "code",
   "execution_count": 234,
   "metadata": {},
   "outputs": [
    {
     "name": "stdout",
     "output_type": "stream",
     "text": [
      "False           6701\n",
      "Not Assessed    1799\n",
      "True            1475\n",
      "NULL              25\n",
      "Name: patient_preference, dtype: int64\n"
     ]
    },
    {
     "data": {
      "text/plain": [
       "<matplotlib.axes._subplots.AxesSubplot at 0x115a13f60>"
      ]
     },
     "execution_count": 234,
     "metadata": {},
     "output_type": "execute_result"
    },
    {
     "data": {
      "image/png": "[encoded data removed]",
      "text/plain": [
       "<Figure size 432x288 with 1 Axes>"
      ]
     },
     "metadata": {},
     "output_type": "display_data"
    }
   ],
   "source": [
    "print(cota_data.patient_preference.value_counts().head())\n",
    "cota_data.patient_preference.value_counts().plot(kind='bar',fontsize=14,title='Patient Preference')\n"
   ]
  },
  {
   "cell_type": "markdown",
   "metadata": {},
   "source": [
    "### 7. histological_grade column"
   ]
  },
  {
   "cell_type": "code",
   "execution_count": 235,
   "metadata": {},
   "outputs": [
    {
     "data": {
      "text/plain": [
       "array(['g2', '3', 'g1', 'not reported', 'not assessed', 'g3', '2', 'g2-3',\n",
       "       '1', nan, 'no neoplasm', 'gi', 'low grade', 'mucinous carcinoma',\n",
       "       'no records', 'ivb', 'high grade(3)', '4'], dtype=object)"
      ]
     },
     "execution_count": 235,
     "metadata": {},
     "output_type": "execute_result"
    }
   ],
   "source": [
    "cota_data.histological_grade.unique()"
   ]
  },
  {
   "cell_type": "code",
   "execution_count": 236,
   "metadata": {},
   "outputs": [],
   "source": [
    "dict_histological_grade={'3':'g3','not reported':'Not Reported', \n",
    "                         'not assessed':'Not Assessed','2':'g2','1':'g1', np.nan:'NULL',\n",
    "                         'gi':'g1', 'low grade':'g1', 'mucinous carcinoma':'NULL',\n",
    "                         'no records':'NULL', 'ivb':'NULL', 'high grade(3)':'g3', \n",
    "                         '4':'g4','no neoplasm':'NULL'}"
   ]
  },
  {
   "cell_type": "code",
   "execution_count": 237,
   "metadata": {},
   "outputs": [],
   "source": [
    "cota_data.histological_grade=replace_all(cota_data,'histological_grade',dict_histological_grade)"
   ]
  },
  {
   "cell_type": "code",
   "execution_count": 238,
   "metadata": {},
   "outputs": [
    {
     "name": "stdout",
     "output_type": "stream",
     "text": [
      "g2              4646\n",
      "Not Assessed    2327\n",
      "g3              1917\n",
      "g1               696\n",
      "Not Reported     203\n",
      "NULL             186\n",
      "g2-3              15\n",
      "g4                10\n",
      "Name: histological_grade, dtype: int64\n"
     ]
    },
    {
     "data": {
      "text/plain": [
       "<matplotlib.axes._subplots.AxesSubplot at 0x1161e2ef0>"
      ]
     },
     "execution_count": 238,
     "metadata": {},
     "output_type": "execute_result"
    },
    {
     "data": {
      "image/png": "[encoded data removed]",
      "text/plain": [
       "<Figure size 432x288 with 1 Axes>"
      ]
     },
     "metadata": {},
     "output_type": "display_data"
    }
   ],
   "source": [
    "print(cota_data.histological_grade.value_counts())\n",
    "cota_data.histological_grade.value_counts().plot(kind='bar',fontsize=14,title='Histological Grade')\n"
   ]
  },
  {
   "cell_type": "code",
   "execution_count": null,
   "metadata": {},
   "outputs": [],
   "source": []
  },
  {
   "cell_type": "code",
   "execution_count": 239,
   "metadata": {},
   "outputs": [],
   "source": [
    "# Save the cleaned dataset\n",
    "cota_data.to_csv('cota_ds_analyst_dataset_Cao_Lexi.csv',index=False,index_label=None)\n"
   ]
  },
  {
   "cell_type": "code",
   "execution_count": 240,
   "metadata": {},
   "outputs": [],
   "source": [
    "#cota_data[cota_data.isin(['Not Assessed','NULL'])]"
   ]
  },
  {
   "cell_type": "markdown",
   "metadata": {},
   "source": [
    "# Step 3: Answers to given questions"
   ]
  },
  {
   "cell_type": "markdown",
   "metadata": {},
   "source": [
    "### 1. How many patients have a therapy type of ‘metastatic’ and stage IV (includes IVa,b,c etc..)?\n",
    "Answer: 1259 patients"
   ]
  },
  {
   "cell_type": "code",
   "execution_count": 241,
   "metadata": {},
   "outputs": [
    {
     "name": "stdout",
     "output_type": "stream",
     "text": [
      "1. There are 1259 patients have a therapy type of metastatic and stage IV\n"
     ]
    }
   ],
   "source": [
    "metastatic_stageiv=cota_data[(cota_data.therapy_type=='metastatic')& (cota_data.stage.str.rstrip('abc')=='iv')]\n",
    "print('1. There are {} patients have a therapy type of metastatic and stage IV'.format(metastatic_stageiv.shape[0]))"
   ]
  },
  {
   "cell_type": "markdown",
   "metadata": {},
   "source": [
    "### 2.\tHow many patients have colon cancer, with stage III (include IIIa,b,c.. etc) and therapy type of ‘adjuvant’?\n",
    "Answer: 580 patients"
   ]
  },
  {
   "cell_type": "code",
   "execution_count": 242,
   "metadata": {},
   "outputs": [
    {
     "name": "stdout",
     "output_type": "stream",
     "text": [
      "2. There are 580 patients have colon cancer, with stage III and therapy type of adjuvant\n"
     ]
    }
   ],
   "source": [
    "colon_stageiii_adjuvant=cota_data[(cota_data.rectal_or_colon_ca=='Colon')&(cota_data.stage.str.rstrip('abc')=='iii')&(cota_data.therapy_type=='adjuvant')]\n",
    "print('2. There are {} patients have colon cancer, with stage III and therapy type of adjuvant'.format(colon_stageiii_adjuvant.shape[0]))\n"
   ]
  },
  {
   "cell_type": "markdown",
   "metadata": {},
   "source": [
    "### 3.\tWhat proportion of patients have rectal cancer?\n",
    "Answer: 0.2202808"
   ]
  },
  {
   "cell_type": "code",
   "execution_count": 243,
   "metadata": {},
   "outputs": [
    {
     "name": "stdout",
     "output_type": "stream",
     "text": [
      "3.\n",
      "Number of patients with rectal cancer = 2118\n",
      "Number of patients with rectal or colon cancer = 9615\n",
      "Proportion of patients have rectal cancer = 2118/9615 = 0.2202808112324493\n"
     ]
    }
   ],
   "source": [
    "rectal=cota_data[(cota_data.rectal_or_colon_ca=='Rectal')]\n",
    "# Keep only rows with Rectal and Colon values \n",
    "rectal_and_colon=cota_data[(cota_data.rectal_or_colon_ca.isin(['Rectal', 'Colon']))]\n",
    "print('3.\\nNumber of patients with rectal cancer = {}'.format(rectal.shape[0]))\n",
    "print('Number of patients with rectal or colon cancer = {}'.format(rectal_and_colon.shape[0]))\n",
    "print('Proportion of patients have rectal cancer = {}/{} = {}'.format(rectal.shape[0],rectal_and_colon.shape[0],rectal.shape[0]/rectal_and_colon.shape[0]))"
   ]
  },
  {
   "cell_type": "markdown",
   "metadata": {},
   "source": [
    "### 4.\tWhat is the probability mass function of lymph_nodes_removed?"
   ]
  },
  {
   "cell_type": "markdown",
   "metadata": {},
   "source": [
    " A Probability Mass Function (PMF), also called a frequency function, gives probabilities for discrete random variables. \n",
    " \n",
    "A PMF equation looks like this: P(X = x), which means the probability that X takes on some value x."
   ]
  },
  {
   "cell_type": "markdown",
   "metadata": {},
   "source": [
    "I will drop NULL, Not Assessed and NO values because they are not helpful for the calculation, and because values with NO are ambiguous to be included in this calculation"
   ]
  },
  {
   "cell_type": "code",
   "execution_count": 244,
   "metadata": {},
   "outputs": [
    {
     "name": "stdout",
     "output_type": "stream",
     "text": [
      "\n",
      "4.\n",
      "After dropping NULL, Not Assessed and NO values, lymph_nodes_removed column has 9224 rows\n"
     ]
    }
   ],
   "source": [
    "# Drop NULL and Not Assessed values because they're not helpful for calculation\n",
    "lymph_nodes_removed=cota_data.lymph_nodes_removed[(cota_data.lymph_nodes_removed!='NULL')&(cota_data.lymph_nodes_removed!='Not Assessed')&(cota_data.lymph_nodes_removed!='NO')]\n",
    "print('\\n4.\\nAfter dropping NULL, Not Assessed and NO values, lymph_nodes_removed column has {} rows'.format(lymph_nodes_removed.shape[0]))\n"
   ]
  },
  {
   "cell_type": "code",
   "execution_count": 245,
   "metadata": {
    "scrolled": false
   },
   "outputs": [
    {
     "name": "stdout",
     "output_type": "stream",
     "text": [
      "PMF\n",
      "    lymph_nodes_removed  Probability\n",
      "3                   12     0.231353\n",
      "9                   18     0.109063\n",
      "8                    0     0.089549\n",
      "0                    1     0.055182\n",
      "20                   7     0.046184\n",
      "17                  16     0.036210\n",
      "14                  30     0.033933\n",
      "15                  13     0.032958\n",
      "4                   15     0.032415\n",
      "1                   14     0.030681\n",
      "19                  17     0.029814\n",
      "16                  20     0.022984\n",
      "5                   21     0.022767\n",
      "10                  26     0.020490\n",
      "22                  19     0.019948\n",
      "32                  23     0.017780\n",
      "2                   24     0.017563\n",
      "21                  10     0.017021\n",
      "12                  11     0.016262\n",
      "13                  22     0.015720\n",
      "7                    9     0.015720\n",
      "27                  28     0.010516\n",
      "31                   6     0.009866\n",
      "18                  33     0.009540\n",
      "33                  29     0.007372\n",
      "6                   25     0.007372\n",
      "29                  27     0.005421\n",
      "23                  32     0.005421\n",
      "40                   3     0.004553\n",
      "24                  41     0.003903\n",
      "25                  52     0.003036\n",
      "38                  34     0.002927\n",
      "39                   8     0.002819\n",
      "34                  47     0.002060\n",
      "36                  56     0.002060\n",
      "35                  51     0.001843\n",
      "28                  46     0.001735\n",
      "11                   5     0.001735\n",
      "26                  43     0.001518\n",
      "30                  36     0.001518\n",
      "37                  69     0.001193\n",
      "AxesSubplot(0.125,0.125;0.775x0.755)\n"
     ]
    },
    {
     "data": {
      "image/png": "[encoded data removed]",
      "text/plain": [
       "<Figure size 1080x720 with 1 Axes>"
      ]
     },
     "metadata": {},
     "output_type": "display_data"
    }
   ],
   "source": [
    "# Probability mass function is equal to total counts of each value in lymph_nodes_removed\n",
    "# divided by total number of entries in lymph_nodes_removed column (excluding NULL and \n",
    "# Not Assessed values)\n",
    "from collections import Counter\n",
    "C = Counter(lymph_nodes_removed)\n",
    "total = float(sum(C.values()))\n",
    "for key in C: C[key] /= total #Calculate pmf\n",
    "    \n",
    "n=table_of_dict(C).rename(columns={'raw':'lymph_nodes_removed', \n",
    "                                   'clean':'Probability'}).sort_values(by='Probability', \n",
    "                                                                       ascending=False)\n",
    "\n",
    "hist=n.plot.bar(x='lymph_nodes_removed', y='Probability',\n",
    "                title='Probability mass function of lymph_nodes_removed',\n",
    "                fontsize=14,rot=0,figsize=(15,10))\n",
    "print('PMF\\n',n)\n",
    "print(hist)\n",
    "#n.to_csv('pmf.csv', index=False)"
   ]
  },
  {
   "cell_type": "code",
   "execution_count": null,
   "metadata": {},
   "outputs": [],
   "source": []
  },
  {
   "cell_type": "markdown",
   "metadata": {},
   "source": [
    "Extra steps to test missing values"
   ]
  },
  {
   "cell_type": "code",
   "execution_count": 253,
   "metadata": {
    "scrolled": true
   },
   "outputs": [
    {
     "data": {
      "text/html": [
       "<div>\n",
       "<style scoped>\n",
       "    .dataframe tbody tr th:only-of-type {\n",
       "        vertical-align: middle;\n",
       "    }\n",
       "\n",
       "    .dataframe tbody tr th {\n",
       "        vertical-align: top;\n",
       "    }\n",
       "\n",
       "    .dataframe thead th {\n",
       "        text-align: right;\n",
       "    }\n",
       "</style>\n",
       "<table border=\"1\" class=\"dataframe\">\n",
       "  <thead>\n",
       "    <tr style=\"text-align: right;\">\n",
       "      <th></th>\n",
       "      <th>patient_id</th>\n",
       "      <th>date_of_birth</th>\n",
       "      <th>stage</th>\n",
       "      <th>rectal_or_colon_ca</th>\n",
       "      <th>braf_mutation</th>\n",
       "      <th>resection</th>\n",
       "      <th>lymph_nodes_removed</th>\n",
       "      <th>therapy_type</th>\n",
       "      <th>patient_preference</th>\n",
       "      <th>histological_grade</th>\n",
       "    </tr>\n",
       "  </thead>\n",
       "  <tbody>\n",
       "    <tr>\n",
       "      <th>521</th>\n",
       "      <td>patient_id_521</td>\n",
       "      <td>1966-09-20</td>\n",
       "      <td>Not Assessed</td>\n",
       "      <td>NULL</td>\n",
       "      <td>Not Assessed</td>\n",
       "      <td>Not Assessed</td>\n",
       "      <td>17</td>\n",
       "      <td>metastatic</td>\n",
       "      <td>Not Assessed</td>\n",
       "      <td>Not Assessed</td>\n",
       "    </tr>\n",
       "    <tr>\n",
       "      <th>3964</th>\n",
       "      <td>patient_id_3964</td>\n",
       "      <td>2000-06-01</td>\n",
       "      <td>Not Assessed</td>\n",
       "      <td>NULL</td>\n",
       "      <td>Not Assessed</td>\n",
       "      <td>Not Reported</td>\n",
       "      <td>16</td>\n",
       "      <td>neoadjuvant</td>\n",
       "      <td>Not Assessed</td>\n",
       "      <td>NULL</td>\n",
       "    </tr>\n",
       "    <tr>\n",
       "      <th>5931</th>\n",
       "      <td>patient_id_5931</td>\n",
       "      <td>1999-01-06</td>\n",
       "      <td>Not Assessed</td>\n",
       "      <td>NULL</td>\n",
       "      <td>Not Assessed</td>\n",
       "      <td>Not Assessed</td>\n",
       "      <td>1</td>\n",
       "      <td>adjuvant</td>\n",
       "      <td>Not Assessed</td>\n",
       "      <td>Not Assessed</td>\n",
       "    </tr>\n",
       "  </tbody>\n",
       "</table>\n",
       "</div>"
      ],
      "text/plain": [
       "           patient_id date_of_birth         stage rectal_or_colon_ca  \\\n",
       "521    patient_id_521    1966-09-20  Not Assessed               NULL   \n",
       "3964  patient_id_3964    2000-06-01  Not Assessed               NULL   \n",
       "5931  patient_id_5931    1999-01-06  Not Assessed               NULL   \n",
       "\n",
       "     braf_mutation     resection lymph_nodes_removed therapy_type  \\\n",
       "521   Not Assessed  Not Assessed                  17   metastatic   \n",
       "3964  Not Assessed  Not Reported                  16  neoadjuvant   \n",
       "5931  Not Assessed  Not Assessed                   1     adjuvant   \n",
       "\n",
       "     patient_preference histological_grade  \n",
       "521        Not Assessed       Not Assessed  \n",
       "3964       Not Assessed               NULL  \n",
       "5931       Not Assessed       Not Assessed  "
      ]
     },
     "execution_count": 253,
     "metadata": {},
     "output_type": "execute_result"
    }
   ],
   "source": [
    "d=['NULL','Not Assessed','Not Reported','NO']\n",
    "cota_data[\n",
    "          (cota_data.stage.isin(d))&\\\n",
    "          (cota_data.rectal_or_colon_ca.isin(d))&\\\n",
    "          (cota_data.braf_mutation.isin(d))&\\\n",
    "          #(cota_data.resection.isin(d))&\\\n",
    "          #(cota_data.lymph_nodes_removed.isin(d))&\\\n",
    "          #(cota_data.therapy_type.isin(d))&\\\n",
    "          (cota_data.patient_preference.isin(d))&\\\n",
    "          (cota_data.histological_grade.isin(d))\n",
    "         ]"
   ]
  }
 ],
 "metadata": {
  "kernelspec": {
   "display_name": "Python 3",
   "language": "python",
   "name": "python3"
  },
  "language_info": {
   "codemirror_mode": {
    "name": "ipython",
    "version": 3
   },
   "file_extension": ".py",
   "mimetype": "text/x-python",
   "name": "python",
   "nbconvert_exporter": "python",
   "pygments_lexer": "ipython3",
   "version": "3.6.6"
  }
 },
 "nbformat": 4,
 "nbformat_minor": 2
}
